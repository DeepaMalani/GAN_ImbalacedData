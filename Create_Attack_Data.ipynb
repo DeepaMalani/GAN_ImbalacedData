{
 "cells": [
  {
   "cell_type": "code",
   "execution_count": 1,
   "metadata": {},
   "outputs": [],
   "source": [
    "import numpy as np\n",
    "import pandas as pd\n",
    "from sklearn.model_selection import train_test_split\n",
    "import torch as th\n",
    "from torch.autograd import Variable as V\n",
    "import torch.autograd as autograd\n",
    "import torch.nn as nn\n",
    "from torch.utils.data import DataLoader, TensorDataset, random_split\n",
    "from sklearn.metrics import accuracy_score\n",
    "import matplotlib.pyplot as plt\n",
    "import seaborn as sns\n",
    "import torch.nn.functional as F\n",
    "import torch.optim as optim\n",
    "from numpy import vstack\n",
    "%matplotlib inline\n",
    "from sklearn.metrics import confusion_matrix,classification_report\n",
    "from sklearn.utils import shuffle\n",
    "from sklearn.ensemble import RandomForestClassifier\n",
    "from sklearn.preprocessing import MinMaxScaler\n",
    "import pickle\n",
    "import os\n",
    "import timeit\n",
    "from sklearn.metrics import f1_score\n",
    "from sklearn.metrics import recall_score\n",
    "from sklearn.metrics import accuracy_score"
   ]
  },
  {
   "cell_type": "code",
   "execution_count": 331,
   "metadata": {},
   "outputs": [],
   "source": [
    "# # GAN - Discriminator\n",
    "# class Discriminator(nn.Module):\n",
    "#     def __init__(self,input_dim):\n",
    "#         super(Discriminator, self).__init__()\n",
    "#         self.layer = nn.Sequential(\n",
    "#             nn.Linear(input_dim, input_dim*2),\n",
    "#             nn.ReLU(True),\n",
    "#             nn.Linear(input_dim*2,1),\n",
    "#             nn.Sigmoid()\n",
    "            \n",
    "\n",
    "#         )\n",
    "#     def forward(self,x):\n",
    "#         return self.layer(x)   "
   ]
  },
  {
   "cell_type": "code",
   "execution_count": 327,
   "metadata": {},
   "outputs": [],
   "source": [
    "# class Generator(nn.Module):\n",
    "#     def __init__(self,input_dim):\n",
    "#         super(Generator, self).__init__()\n",
    "#         self.layer = nn.Sequential(\n",
    "#             nn.Linear(input_dim, input_dim//2),\n",
    "#             nn.ReLU(True),\n",
    "#             nn.Linear(input_dim//2, input_dim//2),\n",
    "#             nn.ReLU(True),\n",
    "#             nn.Linear(input_dim//2, input_dim),\n",
    "#             nn.LeakyReLU(True)\n",
    "# #             nn.Linear(input_dim, input_dim//2),\n",
    "# #             nn.LeakyReLU(True),\n",
    "# #             nn.Linear(input_dim//2, input_dim),\n",
    "# #             nn.LeakyReLU()\n",
    "             \n",
    "           \n",
    "   \n",
    "#         )\n",
    "#     def forward(self, z):\n",
    "#          return self.layer(z)"
   ]
  },
  {
   "cell_type": "code",
   "execution_count": 120,
   "metadata": {},
   "outputs": [],
   "source": [
    "class Generator(nn.Module):\n",
    "    def __init__(self,input_dim):\n",
    "        super(Generator, self).__init__()\n",
    "        self.layer = nn.Sequential(\n",
    "            nn.Linear(input_dim, input_dim//2),\n",
    "            nn.LeakyReLU(True),\n",
    "            nn.Linear(input_dim//2, input_dim),\n",
    "            nn.Sigmoid()\n",
    "   \n",
    "        )\n",
    "    def forward(self, z):\n",
    "         return self.layer(z)\n",
    "        \n",
    "        \n",
    "def gen_adversarial_attack(generator_out, raw_attack, attack_category,POS_NONFUNCTIONAL_FEATURES):\n",
    "    pos_nonfunctional_feature = POS_NONFUNCTIONAL_FEATURES[attack_category]\n",
    "    # Keep the functional features\n",
    "    adversarial_attack = raw_attack.clone().type(th.FloatTensor)\n",
    "#     adversarial_attack = raw_attack.detach()\n",
    "    for row_idx in range(len(adversarial_attack)):\n",
    "        adversarial_attack[row_idx][pos_nonfunctional_feature] = generator_out[row_idx]\n",
    "    return adversarial_attack"
   ]
  },
  {
   "cell_type": "code",
   "execution_count": 121,
   "metadata": {},
   "outputs": [],
   "source": [
    "# GAN - Discriminator\n",
    "class Discriminator(nn.Module):\n",
    "    def __init__(self,input_dim):\n",
    "        super(Discriminator, self).__init__()\n",
    "        self.layer = nn.Sequential(\n",
    "            nn.Linear(input_dim, input_dim*2),\n",
    "            nn.LeakyReLU(True),\n",
    "            nn.Linear(input_dim*2,1),\n",
    "            nn.Sigmoid()\n",
    "\n",
    "        )\n",
    "    def forward(self,x):\n",
    "        return self.layer(x) "
   ]
  },
  {
   "cell_type": "code",
   "execution_count": 4,
   "metadata": {},
   "outputs": [],
   "source": [
    "data = pd.read_csv('..\\WGAN_2021\\GAN_train_2.csv')"
   ]
  },
  {
   "cell_type": "code",
   "execution_count": 5,
   "metadata": {},
   "outputs": [],
   "source": [
    "attack_data = data[data['Label'] == 1]\n",
    "attack_labels = data[data['Label'] == 1]['Label']\n",
    "attack_data = attack_data.drop('Label',axis=1)\n",
    "# Convert  to torch tensor.\n",
    "attack_data = th.from_numpy(attack_data.to_numpy()).type(th.float)\n",
    "attack_labels = th.from_numpy(attack_labels.to_numpy()).type(th.float)\n",
    "# Create a tensor dataset\n",
    "attack_ds = TensorDataset(attack_data,attack_labels)\n"
   ]
  },
  {
   "cell_type": "code",
   "execution_count": 122,
   "metadata": {},
   "outputs": [],
   "source": [
    "batch = 512\n",
    "num_epochs = 100\n",
    "N_FEATURES = 41\n",
    "input_length = N_FEATURES\n"
   ]
  },
  {
   "cell_type": "code",
   "execution_count": 100,
   "metadata": {},
   "outputs": [],
   "source": [
    "FUN_FEATURES = [0, 1, 2, 3, 4, 5, 6, 7, 8, 23, 24, 25, 26, 27, 28, 29, 30]\n",
    "\n",
    "POS_FUNCTIONAL_FEATURES = {'DDoS': FUN_FEATURES}\n",
    "POS_NONFUNCTIONAL_FEATURES = {}\n",
    "for attack_category, pos_functional_feature in POS_FUNCTIONAL_FEATURES.items():\n",
    "    pos_nonfunctional_feature = []\n",
    "    for i in range(N_FEATURES):\n",
    "        if i not in pos_functional_feature:\n",
    "            pos_nonfunctional_feature.append(i)\n",
    "    POS_NONFUNCTIONAL_FEATURES[attack_category] = pos_nonfunctional_feature"
   ]
  },
  {
   "cell_type": "code",
   "execution_count": 74,
   "metadata": {},
   "outputs": [],
   "source": [
    "G_INPUT_DIM = len(POS_NONFUNCTIONAL_FEATURES[attack_category])"
   ]
  },
  {
   "cell_type": "code",
   "execution_count": 9,
   "metadata": {},
   "outputs": [
    {
     "name": "stdout",
     "output_type": "stream",
     "text": [
      "24\n"
     ]
    }
   ],
   "source": [
    "print(G_INPUT_DIM)"
   ]
  },
  {
   "cell_type": "code",
   "execution_count": 10,
   "metadata": {},
   "outputs": [
    {
     "name": "stdout",
     "output_type": "stream",
     "text": [
      "Position of Functional Features\n",
      "   {'DDoS': [0, 1, 2, 3, 4, 5, 6, 7, 8, 23, 24, 25, 26, 27, 28, 29, 30]}\n",
      "Position of Non Functional Features:\n",
      "   {'DDoS': [9, 10, 11, 12, 13, 14, 15, 16, 17, 18, 19, 20, 21, 22, 31, 32, 33, 34, 35, 36, 37, 38, 39, 40]}\n"
     ]
    }
   ],
   "source": [
    "print('Position of Functional Features\\n  ', POS_FUNCTIONAL_FEATURES)\n",
    "print('Position of Non Functional Features:\\n  ', POS_NONFUNCTIONAL_FEATURES)"
   ]
  },
  {
   "cell_type": "code",
   "execution_count": 123,
   "metadata": {},
   "outputs": [],
   "source": [
    "generator = Generator(G_INPUT_DIM)\n",
    "discriminator = Discriminator(input_length)\n",
    "generator_optimizer = th.optim.Adam(generator.parameters(), lr=0.002)\n",
    "discriminator_optimizer = th.optim.Adam(discriminator.parameters(), lr=0.002)"
   ]
  },
  {
   "cell_type": "code",
   "execution_count": 124,
   "metadata": {},
   "outputs": [],
   "source": [
    "def train():\n",
    "     # Models\n",
    "    generator.train()\n",
    "    discriminator.train()\n",
    "\n",
    "    # loss\n",
    "    loss = nn.BCELoss()\n",
    "    g_loss_vals = []\n",
    "    d_loss_vals = []\n",
    "    adversarial_dr_vals = []\n",
    "    for i in range(num_epochs):\n",
    "\n",
    "#          # zero the gradients on each iteration\n",
    "#         generator_optimizer.zero_grad()\n",
    "        for p in discriminator.parameters():  \n",
    "            p.requires_grad = False\n",
    "         # zero the gradients on each iteration\n",
    "        generator_optimizer.zero_grad()\n",
    "\n",
    "        attack_dl = DataLoader(attack_ds, batch_size=batch,shuffle = True)\n",
    "        attack_data,attack_label = iter(attack_dl).next()\n",
    "   \n",
    "         \n",
    "        noise = th.randint(0, 2, size=(len(attack_label), G_INPUT_DIM)).float()\n",
    "        length = len(attack_data)\n",
    "\n",
    "        pos_nonfunctional_feature = POS_NONFUNCTIONAL_FEATURES['DDoS']\n",
    "        nonfunctional_feature = attack_data[:, pos_nonfunctional_feature]\n",
    "        \n",
    "        attack_traffic = th.cat((noise,nonfunctional_feature),dim = 0)\n",
    "        l = list(range(length))\n",
    "        np.random.shuffle(l)\n",
    "        attack_traffic = attack_traffic[l]\n",
    "        generator_out = generator(attack_traffic)\n",
    "       \n",
    "        fake_attack_data = gen_adversarial_attack(generator_out, attack_data, attack_category, POS_NONFUNCTIONAL_FEATURES)\n",
    "        \n",
    "        \n",
    "        pred_ids = ids_model.predict(fake_attack_data.detach())\n",
    "        pred_normal = len(pred_ids[pred_ids==0])\n",
    "        pred_attack = len(pred_ids[pred_ids==1])\n",
    "        \n",
    "        print('Attack',pred_attack)\n",
    "#         print('Normal',pred_normal)\n",
    "\n",
    "              \n",
    "        attack_label = attack_label.reshape(len(attack_label),1)      \n",
    "        generator_discriminator_out = discriminator(fake_attack_data)\n",
    "        \n",
    "#         print(accuracy_score(attack_label,ids_model.predict(generated_data.detach())))\n",
    "        \n",
    "        generator_loss = loss(generator_discriminator_out, attack_label)\n",
    "        g_loss_vals.append(generator_loss)\n",
    "        generator_loss.backward()\n",
    "        generator_optimizer.step()\n",
    "        \n",
    "#         # Train the discriminator on the true/generated data\n",
    "        \n",
    "        # Train Discreminator\n",
    "        for p in discriminator.parameters(): \n",
    "            p.requires_grad = True    \n",
    "        discriminator_optimizer.zero_grad()\n",
    "        \n",
    "        true_discriminator_out = discriminator(attack_data)\n",
    "       \n",
    "        true_discriminator_loss = loss(true_discriminator_out, attack_label)\n",
    "        \n",
    "        \n",
    "        generator_discriminator_out = discriminator(fake_attack_data.detach())\n",
    "        fake_data = th.ones(len(attack_label))\n",
    "       \n",
    "        fake_data = fake_data.reshape(len(attack_label),1)\n",
    "#         attack_label = attack_label.reshape(len(attack_label),1)\n",
    "        generator_discriminator_loss = loss(generator_discriminator_out, fake_data)\n",
    "        \n",
    "        discriminator_loss = (true_discriminator_loss + generator_discriminator_loss) / 2\n",
    "        d_loss_vals.append(discriminator_loss.item())\n",
    "        discriminator_loss.backward()\n",
    "        discriminator_optimizer.step()\n",
    "     \n",
    "    return g_loss_vals, d_loss_vals"
   ]
  },
  {
   "cell_type": "code",
   "execution_count": 125,
   "metadata": {},
   "outputs": [
    {
     "name": "stdout",
     "output_type": "stream",
     "text": [
      "Attack 457\n",
      "Attack 455\n",
      "Attack 441\n",
      "Attack 452\n",
      "Attack 452\n",
      "Attack 456\n",
      "Attack 455\n",
      "Attack 451\n",
      "Attack 473\n",
      "Attack 460\n",
      "Attack 474\n",
      "Attack 477\n",
      "Attack 482\n",
      "Attack 479\n",
      "Attack 488\n",
      "Attack 486\n",
      "Attack 492\n",
      "Attack 481\n",
      "Attack 488\n",
      "Attack 496\n",
      "Attack 480\n",
      "Attack 495\n",
      "Attack 493\n",
      "Attack 503\n",
      "Attack 502\n",
      "Attack 499\n",
      "Attack 502\n",
      "Attack 503\n",
      "Attack 505\n",
      "Attack 506\n",
      "Attack 506\n",
      "Attack 502\n",
      "Attack 509\n",
      "Attack 507\n",
      "Attack 509\n",
      "Attack 511\n",
      "Attack 503\n",
      "Attack 510\n",
      "Attack 511\n",
      "Attack 510\n",
      "Attack 507\n",
      "Attack 508\n",
      "Attack 511\n",
      "Attack 511\n",
      "Attack 511\n",
      "Attack 510\n",
      "Attack 510\n",
      "Attack 509\n",
      "Attack 509\n",
      "Attack 512\n",
      "Attack 510\n",
      "Attack 510\n",
      "Attack 510\n",
      "Attack 511\n",
      "Attack 509\n",
      "Attack 511\n",
      "Attack 511\n",
      "Attack 510\n",
      "Attack 509\n",
      "Attack 511\n",
      "Attack 511\n",
      "Attack 512\n",
      "Attack 511\n",
      "Attack 512\n",
      "Attack 512\n",
      "Attack 512\n",
      "Attack 511\n",
      "Attack 510\n",
      "Attack 511\n",
      "Attack 509\n",
      "Attack 511\n",
      "Attack 510\n",
      "Attack 512\n",
      "Attack 509\n",
      "Attack 511\n",
      "Attack 511\n",
      "Attack 510\n",
      "Attack 512\n",
      "Attack 510\n",
      "Attack 511\n",
      "Attack 511\n",
      "Attack 510\n",
      "Attack 510\n",
      "Attack 511\n",
      "Attack 511\n",
      "Attack 511\n",
      "Attack 512\n",
      "Attack 510\n",
      "Attack 512\n",
      "Attack 510\n",
      "Attack 512\n",
      "Attack 512\n",
      "Attack 512\n",
      "Attack 512\n",
      "Attack 510\n",
      "Attack 511\n",
      "Attack 510\n",
      "Attack 512\n",
      "Attack 511\n",
      "Attack 511\n"
     ]
    }
   ],
   "source": [
    "g,d = train()"
   ]
  },
  {
   "cell_type": "code",
   "execution_count": 127,
   "metadata": {},
   "outputs": [
    {
     "data": {
      "text/plain": [
       "<matplotlib.legend.Legend at 0x2522dfddbb0>"
      ]
     },
     "execution_count": 127,
     "metadata": {},
     "output_type": "execute_result"
    },
    {
     "data": {
      "image/png": "[encoded data removed]",
      "text/plain": [
       "<Figure size 432x432 with 1 Axes>"
      ]
     },
     "metadata": {
      "needs_background": "light"
     },
     "output_type": "display_data"
    }
   ],
   "source": [
    "epochs = np.linspace(0, num_epochs-1, num_epochs).astype(int)\n",
    "plt.figure(figsize=(6,6))\n",
    "plt.plot(epochs, g,color = 'g',label = 'Generator loss')\n",
    "# Naming the x-axis, y-axis and the whole graph\n",
    "plt.xlabel(\"Epochs\")\n",
    "plt.ylabel(\"Loss\")\n",
    "plt.title(\"Generator loss\")\n",
    "# Adding legend, which helps us recognize the curve according to it's color\n",
    "plt.legend()"
   ]
  },
  {
   "cell_type": "code",
   "execution_count": 129,
   "metadata": {},
   "outputs": [
    {
     "data": {
      "text/plain": [
       "<matplotlib.legend.Legend at 0x2522e1141f0>"
      ]
     },
     "execution_count": 129,
     "metadata": {},
     "output_type": "execute_result"
    },
    {
     "data": {
      "image/png": "[encoded data removed]",
      "text/plain": [
       "<Figure size 432x432 with 1 Axes>"
      ]
     },
     "metadata": {
      "needs_background": "light"
     },
     "output_type": "display_data"
    }
   ],
   "source": [
    "epochs = np.linspace(0, num_epochs-1, num_epochs).astype(int)\n",
    "plt.figure(figsize=(6,6))\n",
    "plt.plot(epochs, d,color = 'r',label = 'Discriminator loss')\n",
    "# Naming the x-axis, y-axis and the whole graph\n",
    "plt.xlabel(\"Epochs\")\n",
    "plt.ylabel(\"Loss\")\n",
    "plt.title(\"Discriminator loss\")\n",
    "# Adding legend, which helps us recognize the curve according to it's color\n",
    "plt.legend()"
   ]
  },
  {
   "cell_type": "code",
   "execution_count": 12,
   "metadata": {},
   "outputs": [],
   "source": [
    "# load the model from disk\n",
    "def load_model(filename):\n",
    " loaded_model = pickle.load(open(filename, 'rb'))\n",
    " return loaded_model"
   ]
  },
  {
   "cell_type": "code",
   "execution_count": 13,
   "metadata": {},
   "outputs": [],
   "source": [
    "ids_name = '..\\WGAN_2021\\ids_model_2.sav'"
   ]
  },
  {
   "cell_type": "code",
   "execution_count": 14,
   "metadata": {},
   "outputs": [],
   "source": [
    "# Load Trained IDS Model\n",
    "ids_model = load_model(ids_name)"
   ]
  },
  {
   "cell_type": "code",
   "execution_count": 431,
   "metadata": {},
   "outputs": [],
   "source": [
    "test_path = \"..\\WGAN_2021\\GAN_test_2.csv\""
   ]
  },
  {
   "cell_type": "code",
   "execution_count": 432,
   "metadata": {},
   "outputs": [],
   "source": [
    "test_data = pd.read_csv(test_path)"
   ]
  },
  {
   "cell_type": "code",
   "execution_count": 433,
   "metadata": {},
   "outputs": [],
   "source": [
    "test_attack_data = test_data[test_data['Label'] == 1]\n",
    "test_attack_labels = test_data[test_data['Label'] == 1]['Label']\n",
    "test_attack_data = test_data.drop('Label',axis=1)\n",
    "# Convert  to torch tensor.\n",
    "test_attack_data = th.from_numpy(test_attack_data.to_numpy()).type(th.float)\n",
    "test_attack_labels = th.from_numpy(test_attack_labels.to_numpy()).type(th.float)\n",
    "# Create a tensor dataset\n",
    "# attack_ds = TensorDataset(attack_data,attack_labels)"
   ]
  },
  {
   "cell_type": "code",
   "execution_count": 434,
   "metadata": {},
   "outputs": [],
   "source": [
    "# noise = th.randint(0, 2, size=(len(attack_labels), input_length)).float()    \n",
    "# length = len(attack_data)\n",
    "        \n",
    "generated_data = generator(test_attack_data)"
   ]
  },
  {
   "cell_type": "code",
   "execution_count": 435,
   "metadata": {},
   "outputs": [
    {
     "data": {
      "text/plain": [
       "torch.Size([104712, 41])"
      ]
     },
     "execution_count": 435,
     "metadata": {},
     "output_type": "execute_result"
    }
   ],
   "source": [
    "generated_data.shape"
   ]
  },
  {
   "cell_type": "code",
   "execution_count": 436,
   "metadata": {},
   "outputs": [],
   "source": [
    "d = ids_model.predict(generated_data.detach())"
   ]
  },
  {
   "cell_type": "code",
   "execution_count": 437,
   "metadata": {},
   "outputs": [
    {
     "data": {
      "text/plain": [
       "array([0., 0., 0., ..., 0., 0., 0.])"
      ]
     },
     "execution_count": 437,
     "metadata": {},
     "output_type": "execute_result"
    }
   ],
   "source": [
    "d"
   ]
  }
 ],
 "metadata": {
  "kernelspec": {
   "display_name": "Python 3",
   "language": "python",
   "name": "python3"
  },
  "language_info": {
   "codemirror_mode": {
    "name": "ipython",
    "version": 3
   },
   "file_extension": ".py",
   "mimetype": "text/x-python",
   "name": "python",
   "nbconvert_exporter": "python",
   "pygments_lexer": "ipython3",
   "version": "3.8.3"
  }
 },
 "nbformat": 4,
 "nbformat_minor": 4
}
